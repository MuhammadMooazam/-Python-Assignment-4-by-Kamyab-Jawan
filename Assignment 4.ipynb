{
 "cells": [
  {
   "cell_type": "code",
   "execution_count": 1,
   "id": "1427392d",
   "metadata": {},
   "outputs": [],
   "source": [
    "#Question 01"
   ]
  },
  {
   "cell_type": "code",
   "execution_count": 2,
   "id": "2d642261",
   "metadata": {},
   "outputs": [
    {
     "name": "stdout",
     "output_type": "stream",
     "text": [
      "Select operation.\n",
      "1.Add\n",
      "2.Subtract\n",
      "3.Multiply\n",
      "4.Divide\n",
      "Enter choice(1 / 2 / 3 / 4): 1\n",
      "Enter first number: 9\n",
      "Enter second number: 1\n",
      "9.0 + 1.0 = 10.0\n",
      "Let's do next calculation? (yes/no): no\n"
     ]
    }
   ],
   "source": [
    "def add(x, y):\n",
    "    return x + y\n",
    "\n",
    "def subtract(x, y):\n",
    "    return x - y\n",
    "\n",
    "def multiply(x, y):\n",
    "    return x * y\n",
    "\n",
    "def divide(x, y):\n",
    "    return x / y\n",
    "\n",
    "print(\"Select operation.\")\n",
    "print(\"1.Add\")\n",
    "print(\"2.Subtract\")\n",
    "print(\"3.Multiply\")\n",
    "print(\"4.Divide\")\n",
    "\n",
    "while True:\n",
    "    choice = input(\"Enter choice(1 / 2 / 3 / 4): \")\n",
    "\n",
    "    if choice in ('1', '2', '3', '4'):\n",
    "        num1 = float(input(\"Enter first number: \"))\n",
    "        num2 = float(input(\"Enter second number: \"))\n",
    "\n",
    "        if choice == '1':\n",
    "            print(num1, \"+\", num2, \"=\", add(num1, num2))\n",
    "\n",
    "        elif choice == '2':\n",
    "            print(num1, \"-\", num2, \"=\", subtract(num1, num2))\n",
    "\n",
    "        elif choice == '3':\n",
    "            print(num1, \"*\", num2, \"=\", multiply(num1, num2))\n",
    "\n",
    "        elif choice == '4':\n",
    "            print(num1, \"/\", num2, \"=\", divide(num1, num2))\n",
    "        \n",
    "        next_calculation = input(\"Let's do next calculation? (yes/no): \")\n",
    "        if next_calculation == \"no\":\n",
    "            break\n",
    "    \n",
    "    else:\n",
    "        print(\"Invalid Input\")"
   ]
  },
  {
   "cell_type": "code",
   "execution_count": 3,
   "id": "b92bf10f",
   "metadata": {},
   "outputs": [],
   "source": [
    "#Question 02"
   ]
  },
  {
   "cell_type": "code",
   "execution_count": 4,
   "id": "6472120c",
   "metadata": {},
   "outputs": [
    {
     "name": "stdout",
     "output_type": "stream",
     "text": [
      "Yes there is an integer which is 4\n"
     ]
    }
   ],
   "source": [
    "list = [\"abc\", \"def\", 4, \"ghi\"] \n",
    "for x in list: \n",
    "    if type(x) == int: \n",
    "        print(\"Yes there is an integer which is\" , x)"
   ]
  },
  {
   "cell_type": "code",
   "execution_count": 5,
   "id": "ad577f14",
   "metadata": {},
   "outputs": [],
   "source": [
    "#Question 03"
   ]
  },
  {
   "cell_type": "code",
   "execution_count": 6,
   "id": "ba0c15e4",
   "metadata": {},
   "outputs": [
    {
     "name": "stdout",
     "output_type": "stream",
     "text": [
      "Current Dictionary is:  {'key1': 'Mooazam', 'key2': 'NED UET'}\n",
      "Updated Dict is:  {'key1': 'Mooazam', 'key2': 'IoT', 'key3': 'Python'}\n"
     ]
    }
   ],
   "source": [
    "dict = {'key1':'Mooazam', 'key2':'NED UET'}\n",
    "print(\"Current Dictionary is: \", dict)\n",
    "\n",
    "dict['key2'] = 'IoT'\n",
    "dict['key3'] = 'Python'\n",
    "print(\"Updated Dict is: \", dict)"
   ]
  },
  {
   "cell_type": "code",
   "execution_count": 7,
   "id": "889cb0db",
   "metadata": {},
   "outputs": [],
   "source": [
    "#Question 04"
   ]
  },
  {
   "cell_type": "code",
   "execution_count": 8,
   "id": "ed86e294",
   "metadata": {},
   "outputs": [
    {
     "name": "stdout",
     "output_type": "stream",
     "text": [
      "Total sum of values in the dictionary: 300\n"
     ]
    }
   ],
   "source": [
    "d = {\n",
    "    'A':100,\n",
    "    'B':200,\n",
    "    'C':'Mooazam'\n",
    "}\n",
    "add = 0\n",
    "for i in d.values(): \n",
    "    if type(i) == int: \n",
    "        add = add + i\n",
    "print(\"Total sum of values in the dictionary:\" , add)"
   ]
  },
  {
   "cell_type": "code",
   "execution_count": 9,
   "id": "c83e83f7",
   "metadata": {},
   "outputs": [],
   "source": [
    "#Question 05"
   ]
  },
  {
   "cell_type": "code",
   "execution_count": 10,
   "id": "33fe9d80",
   "metadata": {},
   "outputs": [
    {
     "name": "stdout",
     "output_type": "stream",
     "text": [
      "Duplicate values are:- \n",
      "2 3 4 5 "
     ]
    }
   ],
   "source": [
    "l=[1,2,3,4,5,2,3,4,7,9,5]\n",
    "l1=[]\n",
    "print(\"Duplicate values are:- \")\n",
    "for i in l:\n",
    "    if i not in l1:\n",
    "        l1.append(i)\n",
    "    else:\n",
    "        print(i , end=' ')"
   ]
  },
  {
   "cell_type": "code",
   "execution_count": 11,
   "id": "8a42e543",
   "metadata": {},
   "outputs": [],
   "source": [
    "#Question 06"
   ]
  },
  {
   "cell_type": "code",
   "execution_count": 12,
   "id": "0100c314",
   "metadata": {},
   "outputs": [
    {
     "name": "stdout",
     "output_type": "stream",
     "text": [
      "Key is present in the dictionary\n",
      "Key is not present in the dictionary\n"
     ]
    }
   ],
   "source": [
    "dict_new = {\n",
    "    1: 10, \n",
    "    2: 20, \n",
    "    3: 30, \n",
    "    4: 40, \n",
    "    5: 50, \n",
    "    6: 60\n",
    "           }\n",
    "def key_is_present(x):\n",
    "    if x in dict_new:\n",
    "        print('Key is present in the dictionary')\n",
    "    else:\n",
    "        print('Key is not present in the dictionary')\n",
    "key_is_present(5)\n",
    "key_is_present(9)"
   ]
  },
  {
   "cell_type": "code",
   "execution_count": null,
   "id": "3680cc60",
   "metadata": {},
   "outputs": [],
   "source": []
  }
 ],
 "metadata": {
  "kernelspec": {
   "display_name": "Python 3",
   "language": "python",
   "name": "python3"
  },
  "language_info": {
   "codemirror_mode": {
    "name": "ipython",
    "version": 3
   },
   "file_extension": ".py",
   "mimetype": "text/x-python",
   "name": "python",
   "nbconvert_exporter": "python",
   "pygments_lexer": "ipython3",
   "version": "3.8.8"
  }
 },
 "nbformat": 4,
 "nbformat_minor": 5
}
