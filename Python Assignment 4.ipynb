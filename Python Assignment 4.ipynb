{
 "cells": [
  {
   "cell_type": "markdown",
   "id": "b51ca84b",
   "metadata": {},
   "source": [
    "#Question 01"
   ]
  },
  {
   "cell_type": "code",
   "execution_count": 13,
   "id": "2d642261",
   "metadata": {},
   "outputs": [
    {
     "name": "stdout",
     "output_type": "stream",
     "text": [
      "Select operation.\n",
      "1.Add\n",
      "2.Subtract\n",
      "3.Multiply\n",
      "4.Divide\n",
      "Enter choice(1 / 2 / 3 / 4): 1\n",
      "Enter first number: 99\n",
      "Enter second number: 1\n",
      "99.0 + 1.0 = 100.0\n",
      "Let's do next calculation? (yes/no): no\n"
     ]
    }
   ],
   "source": [
    "def add(x, y):\n",
    "    return x + y\n",
    "\n",
    "def subtract(x, y):\n",
    "    return x - y\n",
    "\n",
    "def multiply(x, y):\n",
    "    return x * y\n",
    "\n",
    "def divide(x, y):\n",
    "    return x / y\n",
    "\n",
    "print(\"Select operation.\")\n",
    "print(\"1.Add\")\n",
    "print(\"2.Subtract\")\n",
    "print(\"3.Multiply\")\n",
    "print(\"4.Divide\")\n",
    "\n",
    "while True:\n",
    "    choice = input(\"Enter choice(1 / 2 / 3 / 4): \")\n",
    "\n",
    "    if choice in ('1', '2', '3', '4'):\n",
    "        num1 = float(input(\"Enter first number: \"))\n",
    "        num2 = float(input(\"Enter second number: \"))\n",
    "\n",
    "        if choice == '1':\n",
    "            print(num1, \"+\", num2, \"=\", add(num1, num2))\n",
    "\n",
    "        elif choice == '2':\n",
    "            print(num1, \"-\", num2, \"=\", subtract(num1, num2))\n",
    "\n",
    "        elif choice == '3':\n",
    "            print(num1, \"*\", num2, \"=\", multiply(num1, num2))\n",
    "\n",
    "        elif choice == '4':\n",
    "            print(num1, \"/\", num2, \"=\", divide(num1, num2))\n",
    "        \n",
    "        next_calculation = input(\"Let's do next calculation? (yes/no): \")\n",
    "        if next_calculation == \"no\":\n",
    "            break\n",
    "    \n",
    "    else:\n",
    "        print(\"Invalid Input\")"
   ]
  },
  {
   "cell_type": "markdown",
   "id": "a1e91c48",
   "metadata": {},
   "source": [
    "#Question 02"
   ]
  },
  {
   "cell_type": "code",
   "execution_count": 14,
   "id": "6472120c",
   "metadata": {},
   "outputs": [
    {
     "name": "stdout",
     "output_type": "stream",
     "text": [
      "Yes there is an integer which is 4\n"
     ]
    }
   ],
   "source": [
    "list = [\"abc\", \"def\", 4, \"ghi\"] \n",
    "for x in list: \n",
    "    if type(x) == int: \n",
    "        print(\"Yes there is an integer which is\" , x)"
   ]
  },
  {
   "cell_type": "markdown",
   "id": "96013104",
   "metadata": {},
   "source": [
    "#Question 03"
   ]
  },
  {
   "cell_type": "code",
   "execution_count": 15,
   "id": "ba0c15e4",
   "metadata": {},
   "outputs": [
    {
     "name": "stdout",
     "output_type": "stream",
     "text": [
      "Current Dictionary is:  {'key1': 'Mooazam', 'key2': 'NED UET'}\n",
      "Updated Dict is:  {'key1': 'Mooazam', 'key2': 'IoT', 'key3': 'Python'}\n"
     ]
    }
   ],
   "source": [
    "dict = {'key1':'Mooazam', 'key2':'NED UET'}\n",
    "print(\"Current Dictionary is: \", dict)\n",
    "\n",
    "dict['key2'] = 'IoT'\n",
    "dict['key3'] = 'Python'\n",
    "print(\"Updated Dict is: \", dict)"
   ]
  },
  {
   "cell_type": "markdown",
   "id": "c84b05b8",
   "metadata": {},
   "source": [
    "#Question 04"
   ]
  },
  {
   "cell_type": "code",
   "execution_count": 16,
   "id": "ed86e294",
   "metadata": {},
   "outputs": [
    {
     "name": "stdout",
     "output_type": "stream",
     "text": [
      "Total sum of values in the dictionary: 300\n"
     ]
    }
   ],
   "source": [
    "d = {\n",
    "    'A':100,\n",
    "    'B':200,\n",
    "    'C':'Mooazam'\n",
    "}\n",
    "add = 0\n",
    "for i in d.values(): \n",
    "    if type(i) == int: \n",
    "        add = add + i\n",
    "print(\"Total sum of values in the dictionary:\" , add)"
   ]
  },
  {
   "cell_type": "markdown",
   "id": "4604364c",
   "metadata": {},
   "source": [
    "#Question 05"
   ]
  },
  {
   "cell_type": "code",
   "execution_count": 17,
   "id": "33fe9d80",
   "metadata": {},
   "outputs": [
    {
     "name": "stdout",
     "output_type": "stream",
     "text": [
      "Duplicate values are:- \n",
      "2 3 4 5 "
     ]
    }
   ],
   "source": [
    "l=[1,2,3,4,5,2,3,4,7,9,5]\n",
    "l1=[]\n",
    "print(\"Duplicate values are:- \")\n",
    "for i in l:\n",
    "    if i not in l1:\n",
    "        l1.append(i)\n",
    "    else:\n",
    "        print(i , end=' ')"
   ]
  },
  {
   "cell_type": "markdown",
   "id": "4690d962",
   "metadata": {},
   "source": [
    "#Question 06"
   ]
  },
  {
   "cell_type": "code",
   "execution_count": 18,
   "id": "0100c314",
   "metadata": {},
   "outputs": [
    {
     "name": "stdout",
     "output_type": "stream",
     "text": [
      "Key is present in the dictionary\n",
      "Key is not present in the dictionary\n"
     ]
    }
   ],
   "source": [
    "dict_new = {\n",
    "    1: 10, \n",
    "    2: 20, \n",
    "    3: 30, \n",
    "    4: 40, \n",
    "    5: 50, \n",
    "    6: 60\n",
    "           }\n",
    "def key_is_present(x):\n",
    "    if x in dict_new:\n",
    "        print('Key is present in the dictionary')\n",
    "    else:\n",
    "        print('Key is not present in the dictionary')\n",
    "key_is_present(5)\n",
    "key_is_present(9)"
   ]
  },
  {
   "cell_type": "code",
   "execution_count": null,
   "id": "3680cc60",
   "metadata": {},
   "outputs": [],
   "source": []
  }
 ],
 "metadata": {
  "kernelspec": {
   "display_name": "Python 3",
   "language": "python",
   "name": "python3"
  },
  "language_info": {
   "codemirror_mode": {
    "name": "ipython",
    "version": 3
   },
   "file_extension": ".py",
   "mimetype": "text/x-python",
   "name": "python",
   "nbconvert_exporter": "python",
   "pygments_lexer": "ipython3",
   "version": "3.8.8"
  }
 },
 "nbformat": 4,
 "nbformat_minor": 5
}
